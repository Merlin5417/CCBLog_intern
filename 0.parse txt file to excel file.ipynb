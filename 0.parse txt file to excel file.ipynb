{
 "cells": [
  {
   "cell_type": "markdown",
   "metadata": {},
   "source": [
    "文件预处理\n",
    "------------------"
   ]
  },
  {
   "cell_type": "code",
   "execution_count": 22,
   "metadata": {},
   "outputs": [
    {
     "name": "stdout",
     "output_type": "stream",
     "text": [
      "mx_log_error_20181108.log\n",
      "mx_log_error_20181109.log\n",
      "mx_log_error_20181112.log\n",
      "mx_log_error_20181113.log\n"
     ]
    }
   ],
   "source": [
    "import os\n",
    "import xlwt\n",
    "path = \"error\" #文件夹目录\n",
    "files = os.listdir(path)\n",
    "for file in files:\n",
    "    if not os.path.isdir(file):\n",
    "        print(file)"
   ]
  },
  {
   "cell_type": "markdown",
   "metadata": {},
   "source": [
    "将txt文件转化为excel文件\n",
    "--------------------------\n",
    "\n",
    "参考链接：\n",
    "* 将txt转换为excel文件： https://blog.csdn.net/qq_16645423/article/details/79466958  \n",
    "* 读取文件夹下所有文件： https://blog.csdn.net/LZGS_4/article/details/50371030"
   ]
  },
  {
   "cell_type": "code",
   "execution_count": 58,
   "metadata": {},
   "outputs": [],
   "source": [
    "def txt_xls(path,xlsname):\n",
    "    \"\"\"\n",
    "    :文本转换成xls的函数\n",
    "    :param dirname 文件夹目录路径（可以输入当前的目录路径）\n",
    "    :param xlsname 表示转换后的excel文件名\n",
    "    \"\"\"\n",
    "    xls=xlwt.Workbook()\n",
    "    #生成excel的方法，声明excel\n",
    "    sheet = xls.add_sheet('sheet1',cell_overwrite_ok=True) \n",
    "    x = 0 \n",
    "    \n",
    "    files = os.listdir(path)  # file是以list形式出现，[filename1,filename2,...,filename_n] => file\n",
    "    for filename in files:\n",
    "        if not os.path.isdir(filename):\n",
    "            try:\n",
    "                f = open(path + '/' + filename,encoding='utf8')\n",
    "                while True:\n",
    "                    #按行循环，读取文本文件\n",
    "                    line = f.readline() \n",
    "                    if not line: \n",
    "                        break  #如果没有内容，则退出循环\n",
    "                    for i in range(len(line.split('\\t'))):\n",
    "                        item=line.split('\\t')[i]\n",
    "                        sheet.write(x,i,item) #x单元格经度，i 单元格纬度\n",
    "                    x += 1 #excel另起一行\n",
    "                f.close()\n",
    "                xls.save(xlsname) #保存xls文件\n",
    "            except:\n",
    "                raise"
   ]
  },
  {
   "cell_type": "code",
   "execution_count": 59,
   "metadata": {},
   "outputs": [
    {
     "name": "stdout",
     "output_type": "stream",
     "text": [
      "filename = mx_log_error_20181108.log\n",
      "filename = mx_log_error_20181109.log\n",
      "filename = mx_log_error_20181112.log\n",
      "filename = mx_log_error_20181113.log\n"
     ]
    }
   ],
   "source": [
    "if __name__ == \"__main__\" :\n",
    "    path = \"error\"\n",
    "    xlsname  = \"allerror.xls\"\n",
    "    txt_xls(path,xlsname)"
   ]
  },
  {
   "cell_type": "code",
   "execution_count": 60,
   "metadata": {},
   "outputs": [
    {
     "name": "stdout",
     "output_type": "stream",
     "text": [
      "filename = mx_log_mxalive_20181108.log\n",
      "filename = mx_log_mxalive_20181109.log\n",
      "filename = mx_log_mxalive_20181110.log\n",
      "filename = mx_log_mxalive_20181111.log\n",
      "filename = mx_log_mxalive_20181112.log\n",
      "filename = mx_log_mxalive_20181113.log\n"
     ]
    }
   ],
   "source": [
    "if __name__ == \"__main__\" :\n",
    "    path = \"alive\"\n",
    "    xlsname  = \"allalive.xls\"\n",
    "    txt_xls(path,xlsname)"
   ]
  },
  {
   "cell_type": "code",
   "execution_count": 62,
   "metadata": {},
   "outputs": [
    {
     "name": "stdout",
     "output_type": "stream",
     "text": [
      "filename = mx_log_apptunnel_20181108.log\n",
      "filename = mx_log_apptunnel_20181109.log\n",
      "filename = mx_log_apptunnel_20181110.log\n",
      "filename = mx_log_apptunnel_20181111.log\n",
      "filename = mx_log_apptunnel_20181112.log\n",
      "filename = mx_log_apptunnel_20181113.log\n",
      "filename = mx_log_mxdebug_20181108.log\n",
      "filename = mx_log_mxdebug_20181109.log\n",
      "filename = mx_log_mxdebug_20181112.log\n",
      "filename = mx_log_mxdebug_20181113.log\n",
      "filename = mx_log_mxmail_20181108.log\n",
      "filename = mx_log_mxmail_20181109.log\n",
      "filename = mx_log_mxmail_20181112.log\n",
      "filename = mx_log_mxmail_20181113.log\n",
      "filename = mx_log_mxmessage_20181108.log\n",
      "filename = mx_log_mxmessage_20181109.log\n",
      "filename = mx_log_mxmessage_20181112.log\n",
      "filename = mx_log_mxmessage_20181113.log\n",
      "filename = mx_log_pedometer_20181108.log\n",
      "filename = mx_log_pedometer_20181109.log\n",
      "filename = mx_log_pedometer_20181112.log\n",
      "filename = mx_log_pedometer_20181113.log\n",
      "filename = mx_log_mxpush_20181108.log\n",
      "filename = mx_log_mxpush_20181109.log\n",
      "filename = mx_log_mxpush_20181112.log\n",
      "filename = mx_log_mxpush_20181113.log\n",
      "filename = mx_log_mxvideo_20181108.log\n",
      "filename = mx_log_mxvideo_20181109.log\n",
      "filename = mx_log_web_20181108.log\n"
     ]
    }
   ],
   "source": [
    "if __name__ == \"__main__\":\n",
    "    path = ['apptunnel','debug','mail','message','pedometer','push','video','web']\n",
    "    for pathname in path:\n",
    "        xlsname = 'all' + pathname + '.xls'\n",
    "        txt_xls(pathname, xlsname)"
   ]
  },
  {
   "cell_type": "code",
   "execution_count": null,
   "metadata": {},
   "outputs": [],
   "source": []
  },
  {
   "cell_type": "code",
   "execution_count": null,
   "metadata": {},
   "outputs": [],
   "source": []
  },
  {
   "cell_type": "code",
   "execution_count": null,
   "metadata": {},
   "outputs": [],
   "source": []
  },
  {
   "cell_type": "code",
   "execution_count": null,
   "metadata": {},
   "outputs": [],
   "source": []
  },
  {
   "cell_type": "code",
   "execution_count": null,
   "metadata": {},
   "outputs": [],
   "source": []
  },
  {
   "cell_type": "code",
   "execution_count": null,
   "metadata": {},
   "outputs": [],
   "source": []
  },
  {
   "cell_type": "code",
   "execution_count": null,
   "metadata": {},
   "outputs": [],
   "source": []
  },
  {
   "cell_type": "code",
   "execution_count": null,
   "metadata": {},
   "outputs": [],
   "source": []
  },
  {
   "cell_type": "code",
   "execution_count": null,
   "metadata": {},
   "outputs": [],
   "source": []
  },
  {
   "cell_type": "code",
   "execution_count": null,
   "metadata": {},
   "outputs": [],
   "source": []
  },
  {
   "cell_type": "code",
   "execution_count": null,
   "metadata": {},
   "outputs": [],
   "source": []
  },
  {
   "cell_type": "code",
   "execution_count": null,
   "metadata": {},
   "outputs": [],
   "source": []
  },
  {
   "cell_type": "code",
   "execution_count": null,
   "metadata": {},
   "outputs": [],
   "source": []
  },
  {
   "cell_type": "code",
   "execution_count": null,
   "metadata": {},
   "outputs": [],
   "source": []
  },
  {
   "cell_type": "code",
   "execution_count": null,
   "metadata": {},
   "outputs": [],
   "source": []
  },
  {
   "cell_type": "code",
   "execution_count": null,
   "metadata": {},
   "outputs": [],
   "source": []
  },
  {
   "cell_type": "code",
   "execution_count": null,
   "metadata": {},
   "outputs": [],
   "source": []
  },
  {
   "cell_type": "code",
   "execution_count": null,
   "metadata": {},
   "outputs": [],
   "source": []
  },
  {
   "cell_type": "code",
   "execution_count": null,
   "metadata": {},
   "outputs": [],
   "source": []
  },
  {
   "cell_type": "code",
   "execution_count": null,
   "metadata": {},
   "outputs": [],
   "source": []
  },
  {
   "cell_type": "code",
   "execution_count": null,
   "metadata": {},
   "outputs": [],
   "source": []
  },
  {
   "cell_type": "code",
   "execution_count": null,
   "metadata": {},
   "outputs": [],
   "source": []
  },
  {
   "cell_type": "code",
   "execution_count": null,
   "metadata": {},
   "outputs": [],
   "source": []
  },
  {
   "cell_type": "code",
   "execution_count": null,
   "metadata": {},
   "outputs": [],
   "source": []
  },
  {
   "cell_type": "code",
   "execution_count": null,
   "metadata": {},
   "outputs": [],
   "source": []
  },
  {
   "cell_type": "code",
   "execution_count": null,
   "metadata": {},
   "outputs": [],
   "source": []
  },
  {
   "cell_type": "code",
   "execution_count": null,
   "metadata": {},
   "outputs": [],
   "source": []
  },
  {
   "cell_type": "code",
   "execution_count": null,
   "metadata": {},
   "outputs": [],
   "source": []
  },
  {
   "cell_type": "code",
   "execution_count": null,
   "metadata": {},
   "outputs": [],
   "source": []
  },
  {
   "cell_type": "code",
   "execution_count": null,
   "metadata": {},
   "outputs": [],
   "source": []
  },
  {
   "cell_type": "code",
   "execution_count": null,
   "metadata": {},
   "outputs": [],
   "source": []
  },
  {
   "cell_type": "code",
   "execution_count": null,
   "metadata": {},
   "outputs": [],
   "source": []
  },
  {
   "cell_type": "code",
   "execution_count": null,
   "metadata": {},
   "outputs": [],
   "source": []
  },
  {
   "cell_type": "code",
   "execution_count": null,
   "metadata": {},
   "outputs": [],
   "source": []
  },
  {
   "cell_type": "code",
   "execution_count": null,
   "metadata": {},
   "outputs": [],
   "source": []
  },
  {
   "cell_type": "code",
   "execution_count": null,
   "metadata": {},
   "outputs": [],
   "source": []
  },
  {
   "cell_type": "code",
   "execution_count": null,
   "metadata": {},
   "outputs": [],
   "source": []
  },
  {
   "cell_type": "code",
   "execution_count": null,
   "metadata": {},
   "outputs": [],
   "source": []
  },
  {
   "cell_type": "code",
   "execution_count": null,
   "metadata": {},
   "outputs": [],
   "source": []
  }
 ],
 "metadata": {
  "kernelspec": {
   "display_name": "Python 3",
   "language": "python",
   "name": "python3"
  },
  "language_info": {
   "codemirror_mode": {
    "name": "ipython",
    "version": 3
   },
   "file_extension": ".py",
   "mimetype": "text/x-python",
   "name": "python",
   "nbconvert_exporter": "python",
   "pygments_lexer": "ipython3",
   "version": "3.6.5"
  }
 },
 "nbformat": 4,
 "nbformat_minor": 2
}
